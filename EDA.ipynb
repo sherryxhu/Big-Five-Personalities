{
 "cells": [
  {
   "cell_type": "markdown",
   "metadata": {},
   "source": [
    "# Setup"
   ]
  },
  {
   "cell_type": "code",
   "execution_count": 1,
   "metadata": {},
   "outputs": [],
   "source": [
    "import pandas as pd\n",
    "import random\n",
    "import numpy as np\n",
    "from scipy import linalg\n",
    "import matplotlib.pyplot as plt\n",
    "import matplotlib as mpl\n",
    "\n",
    "from sklearn import mixture\n",
    "from sklearn.decomposition import PCA\n",
    "\n",
    "from mpl_toolkits.mplot3d import Axes3D  # noqa: F401 unused import\n",
    "import plotly.graph_objects as go\n",
    "import plotly.express as px\n",
    "import seaborn as sns\n",
    "\n",
    "from sklearn.preprocessing import MinMaxScaler\n",
    "\n",
    "# Clustering\n",
    "from sklearn.cluster import KMeans, DBSCAN\n",
    "from sklearn import preprocessing\n",
    "from sklearn.metrics import silhouette_score\n",
    "\n",
    "# Dimensionality reduction\n",
    "from sklearn.manifold import TSNE\n",
    "%matplotlib inline"
   ]
  },
  {
   "cell_type": "code",
   "execution_count": 2,
   "metadata": {},
   "outputs": [],
   "source": [
    "data_file = \"data-final.csv\"\n",
    "df = pd.read_csv(data_file, sep=\"\\t\")\n"
   ]
  },
  {
   "cell_type": "code",
   "execution_count": 3,
   "metadata": {},
   "outputs": [
    {
     "data": {
      "text/html": [
       "<div>\n",
       "<style scoped>\n",
       "    .dataframe tbody tr th:only-of-type {\n",
       "        vertical-align: middle;\n",
       "    }\n",
       "\n",
       "    .dataframe tbody tr th {\n",
       "        vertical-align: top;\n",
       "    }\n",
       "\n",
       "    .dataframe thead th {\n",
       "        text-align: right;\n",
       "    }\n",
       "</style>\n",
       "<table border=\"1\" class=\"dataframe\">\n",
       "  <thead>\n",
       "    <tr style=\"text-align: right;\">\n",
       "      <th></th>\n",
       "      <th>EXT1</th>\n",
       "      <th>EXT2</th>\n",
       "      <th>EXT3</th>\n",
       "      <th>EXT4</th>\n",
       "      <th>EXT5</th>\n",
       "      <th>EXT6</th>\n",
       "      <th>EXT7</th>\n",
       "      <th>EXT8</th>\n",
       "      <th>EXT9</th>\n",
       "      <th>EXT10</th>\n",
       "      <th>...</th>\n",
       "      <th>dateload</th>\n",
       "      <th>screenw</th>\n",
       "      <th>screenh</th>\n",
       "      <th>introelapse</th>\n",
       "      <th>testelapse</th>\n",
       "      <th>endelapse</th>\n",
       "      <th>IPC</th>\n",
       "      <th>country</th>\n",
       "      <th>lat_appx_lots_of_err</th>\n",
       "      <th>long_appx_lots_of_err</th>\n",
       "    </tr>\n",
       "  </thead>\n",
       "  <tbody>\n",
       "    <tr>\n",
       "      <td>0</td>\n",
       "      <td>4.0</td>\n",
       "      <td>1.0</td>\n",
       "      <td>5.0</td>\n",
       "      <td>2.0</td>\n",
       "      <td>5.0</td>\n",
       "      <td>1.0</td>\n",
       "      <td>5.0</td>\n",
       "      <td>2.0</td>\n",
       "      <td>4.0</td>\n",
       "      <td>1.0</td>\n",
       "      <td>...</td>\n",
       "      <td>2016-03-03 02:01:01</td>\n",
       "      <td>768.0</td>\n",
       "      <td>1024.0</td>\n",
       "      <td>9.0</td>\n",
       "      <td>234.0</td>\n",
       "      <td>6</td>\n",
       "      <td>1</td>\n",
       "      <td>GB</td>\n",
       "      <td>51.5448</td>\n",
       "      <td>0.1991</td>\n",
       "    </tr>\n",
       "    <tr>\n",
       "      <td>1</td>\n",
       "      <td>3.0</td>\n",
       "      <td>5.0</td>\n",
       "      <td>3.0</td>\n",
       "      <td>4.0</td>\n",
       "      <td>3.0</td>\n",
       "      <td>3.0</td>\n",
       "      <td>2.0</td>\n",
       "      <td>5.0</td>\n",
       "      <td>1.0</td>\n",
       "      <td>5.0</td>\n",
       "      <td>...</td>\n",
       "      <td>2016-03-03 02:01:20</td>\n",
       "      <td>1360.0</td>\n",
       "      <td>768.0</td>\n",
       "      <td>12.0</td>\n",
       "      <td>179.0</td>\n",
       "      <td>11</td>\n",
       "      <td>1</td>\n",
       "      <td>MY</td>\n",
       "      <td>3.1698</td>\n",
       "      <td>101.706</td>\n",
       "    </tr>\n",
       "    <tr>\n",
       "      <td>2</td>\n",
       "      <td>2.0</td>\n",
       "      <td>3.0</td>\n",
       "      <td>4.0</td>\n",
       "      <td>4.0</td>\n",
       "      <td>3.0</td>\n",
       "      <td>2.0</td>\n",
       "      <td>1.0</td>\n",
       "      <td>3.0</td>\n",
       "      <td>2.0</td>\n",
       "      <td>5.0</td>\n",
       "      <td>...</td>\n",
       "      <td>2016-03-03 02:01:56</td>\n",
       "      <td>1366.0</td>\n",
       "      <td>768.0</td>\n",
       "      <td>3.0</td>\n",
       "      <td>186.0</td>\n",
       "      <td>7</td>\n",
       "      <td>1</td>\n",
       "      <td>GB</td>\n",
       "      <td>54.9119</td>\n",
       "      <td>-1.3833</td>\n",
       "    </tr>\n",
       "    <tr>\n",
       "      <td>3</td>\n",
       "      <td>2.0</td>\n",
       "      <td>2.0</td>\n",
       "      <td>2.0</td>\n",
       "      <td>3.0</td>\n",
       "      <td>4.0</td>\n",
       "      <td>2.0</td>\n",
       "      <td>2.0</td>\n",
       "      <td>4.0</td>\n",
       "      <td>1.0</td>\n",
       "      <td>4.0</td>\n",
       "      <td>...</td>\n",
       "      <td>2016-03-03 02:02:02</td>\n",
       "      <td>1920.0</td>\n",
       "      <td>1200.0</td>\n",
       "      <td>186.0</td>\n",
       "      <td>219.0</td>\n",
       "      <td>7</td>\n",
       "      <td>1</td>\n",
       "      <td>GB</td>\n",
       "      <td>51.75</td>\n",
       "      <td>-1.25</td>\n",
       "    </tr>\n",
       "    <tr>\n",
       "      <td>4</td>\n",
       "      <td>3.0</td>\n",
       "      <td>3.0</td>\n",
       "      <td>3.0</td>\n",
       "      <td>3.0</td>\n",
       "      <td>5.0</td>\n",
       "      <td>3.0</td>\n",
       "      <td>3.0</td>\n",
       "      <td>5.0</td>\n",
       "      <td>3.0</td>\n",
       "      <td>4.0</td>\n",
       "      <td>...</td>\n",
       "      <td>2016-03-03 02:02:57</td>\n",
       "      <td>1366.0</td>\n",
       "      <td>768.0</td>\n",
       "      <td>8.0</td>\n",
       "      <td>315.0</td>\n",
       "      <td>17</td>\n",
       "      <td>2</td>\n",
       "      <td>KE</td>\n",
       "      <td>1.0</td>\n",
       "      <td>38.0</td>\n",
       "    </tr>\n",
       "  </tbody>\n",
       "</table>\n",
       "<p>5 rows × 110 columns</p>\n",
       "</div>"
      ],
      "text/plain": [
       "   EXT1  EXT2  EXT3  EXT4  EXT5  EXT6  EXT7  EXT8  EXT9  EXT10  ...  \\\n",
       "0   4.0   1.0   5.0   2.0   5.0   1.0   5.0   2.0   4.0    1.0  ...   \n",
       "1   3.0   5.0   3.0   4.0   3.0   3.0   2.0   5.0   1.0    5.0  ...   \n",
       "2   2.0   3.0   4.0   4.0   3.0   2.0   1.0   3.0   2.0    5.0  ...   \n",
       "3   2.0   2.0   2.0   3.0   4.0   2.0   2.0   4.0   1.0    4.0  ...   \n",
       "4   3.0   3.0   3.0   3.0   5.0   3.0   3.0   5.0   3.0    4.0  ...   \n",
       "\n",
       "              dateload  screenw  screenh  introelapse  testelapse  endelapse  \\\n",
       "0  2016-03-03 02:01:01    768.0   1024.0          9.0       234.0          6   \n",
       "1  2016-03-03 02:01:20   1360.0    768.0         12.0       179.0         11   \n",
       "2  2016-03-03 02:01:56   1366.0    768.0          3.0       186.0          7   \n",
       "3  2016-03-03 02:02:02   1920.0   1200.0        186.0       219.0          7   \n",
       "4  2016-03-03 02:02:57   1366.0    768.0          8.0       315.0         17   \n",
       "\n",
       "   IPC  country  lat_appx_lots_of_err  long_appx_lots_of_err  \n",
       "0    1       GB               51.5448                 0.1991  \n",
       "1    1       MY                3.1698                101.706  \n",
       "2    1       GB               54.9119                -1.3833  \n",
       "3    1       GB                 51.75                  -1.25  \n",
       "4    2       KE                   1.0                   38.0  \n",
       "\n",
       "[5 rows x 110 columns]"
      ]
     },
     "execution_count": 3,
     "metadata": {},
     "output_type": "execute_result"
    }
   ],
   "source": [
    "df.head()"
   ]
  },
  {
   "cell_type": "code",
   "execution_count": 4,
   "metadata": {},
   "outputs": [
    {
     "data": {
      "text/plain": [
       "['EXT1',\n",
       " 'EXT2',\n",
       " 'EXT3',\n",
       " 'EXT4',\n",
       " 'EXT5',\n",
       " 'EXT6',\n",
       " 'EXT7',\n",
       " 'EXT8',\n",
       " 'EXT9',\n",
       " 'EXT10',\n",
       " 'EST1',\n",
       " 'EST2',\n",
       " 'EST3',\n",
       " 'EST4',\n",
       " 'EST5',\n",
       " 'EST6',\n",
       " 'EST7',\n",
       " 'EST8',\n",
       " 'EST9',\n",
       " 'EST10',\n",
       " 'AGR1',\n",
       " 'AGR2',\n",
       " 'AGR3',\n",
       " 'AGR4',\n",
       " 'AGR5',\n",
       " 'AGR6',\n",
       " 'AGR7',\n",
       " 'AGR8',\n",
       " 'AGR9',\n",
       " 'AGR10',\n",
       " 'CSN1',\n",
       " 'CSN2',\n",
       " 'CSN3',\n",
       " 'CSN4',\n",
       " 'CSN5',\n",
       " 'CSN6',\n",
       " 'CSN7',\n",
       " 'CSN8',\n",
       " 'CSN9',\n",
       " 'CSN10',\n",
       " 'OPN1',\n",
       " 'OPN2',\n",
       " 'OPN3',\n",
       " 'OPN4',\n",
       " 'OPN5',\n",
       " 'OPN6',\n",
       " 'OPN7',\n",
       " 'OPN8',\n",
       " 'OPN9',\n",
       " 'OPN10',\n",
       " 'EXT1_E',\n",
       " 'EXT2_E',\n",
       " 'EXT3_E',\n",
       " 'EXT4_E',\n",
       " 'EXT5_E',\n",
       " 'EXT6_E',\n",
       " 'EXT7_E',\n",
       " 'EXT8_E',\n",
       " 'EXT9_E',\n",
       " 'EXT10_E',\n",
       " 'EST1_E',\n",
       " 'EST2_E',\n",
       " 'EST3_E',\n",
       " 'EST4_E',\n",
       " 'EST5_E',\n",
       " 'EST6_E',\n",
       " 'EST7_E',\n",
       " 'EST8_E',\n",
       " 'EST9_E',\n",
       " 'EST10_E',\n",
       " 'AGR1_E',\n",
       " 'AGR2_E',\n",
       " 'AGR3_E',\n",
       " 'AGR4_E',\n",
       " 'AGR5_E',\n",
       " 'AGR6_E',\n",
       " 'AGR7_E',\n",
       " 'AGR8_E',\n",
       " 'AGR9_E',\n",
       " 'AGR10_E',\n",
       " 'CSN1_E',\n",
       " 'CSN2_E',\n",
       " 'CSN3_E',\n",
       " 'CSN4_E',\n",
       " 'CSN5_E',\n",
       " 'CSN6_E',\n",
       " 'CSN7_E',\n",
       " 'CSN8_E',\n",
       " 'CSN9_E',\n",
       " 'CSN10_E',\n",
       " 'OPN1_E',\n",
       " 'OPN2_E',\n",
       " 'OPN3_E',\n",
       " 'OPN4_E',\n",
       " 'OPN5_E',\n",
       " 'OPN6_E',\n",
       " 'OPN7_E',\n",
       " 'OPN8_E',\n",
       " 'OPN9_E',\n",
       " 'OPN10_E',\n",
       " 'dateload',\n",
       " 'screenw',\n",
       " 'screenh',\n",
       " 'introelapse',\n",
       " 'testelapse',\n",
       " 'endelapse',\n",
       " 'IPC',\n",
       " 'country',\n",
       " 'lat_appx_lots_of_err',\n",
       " 'long_appx_lots_of_err']"
      ]
     },
     "execution_count": 4,
     "metadata": {},
     "output_type": "execute_result"
    }
   ],
   "source": [
    "list(df.columns)"
   ]
  },
  {
   "cell_type": "markdown",
   "metadata": {},
   "source": [
    "# EDA"
   ]
  },
  {
   "cell_type": "code",
   "execution_count": 5,
   "metadata": {},
   "outputs": [
    {
     "data": {
      "text/plain": [
       "(1015341, 110)"
      ]
     },
     "execution_count": 5,
     "metadata": {},
     "output_type": "execute_result"
    }
   ],
   "source": [
    "df.shape"
   ]
  },
  {
   "cell_type": "code",
   "execution_count": 6,
   "metadata": {},
   "outputs": [
    {
     "data": {
      "text/plain": [
       "(696845, 110)"
      ]
     },
     "execution_count": 6,
     "metadata": {},
     "output_type": "execute_result"
    }
   ],
   "source": [
    "df = df[df['IPC'] == 1]\n",
    "df.shape"
   ]
  },
  {
   "cell_type": "code",
   "execution_count": 7,
   "metadata": {},
   "outputs": [],
   "source": [
    "total_time = df.iloc[:,50:100].sum(axis=1)\n"
   ]
  },
  {
   "cell_type": "code",
   "execution_count": 8,
   "metadata": {},
   "outputs": [
    {
     "data": {
      "text/plain": [
       "count    6.968450e+05\n",
       "mean     4.886900e+05\n",
       "std      7.587583e+06\n",
       "min     -7.873258e+07\n",
       "25%      1.663530e+05\n",
       "50%      2.160290e+05\n",
       "75%      2.973040e+05\n",
       "max      2.147711e+09\n",
       "dtype: float64"
      ]
     },
     "execution_count": 8,
     "metadata": {},
     "output_type": "execute_result"
    }
   ],
   "source": [
    "total_time.describe()"
   ]
  },
  {
   "cell_type": "code",
   "execution_count": null,
   "metadata": {},
   "outputs": [],
   "source": [
    "# fig = go.Figure(data=[go.Histogram(x=total_time)])\n",
    "# fig.update_layout(\n",
    "#     title_text='Histogram of Total Time', # title of plot\n",
    "#     xaxis_title_text='Total Time', # xaxis label,\n",
    "# )\n",
    "# fig.show()"
   ]
  },
  {
   "cell_type": "code",
   "execution_count": null,
   "metadata": {},
   "outputs": [],
   "source": [
    "# fig = go.Figure(data=[go.Box(x=total_time, name=\"Total Time\")])\n",
    "# fig.update_layout(\n",
    "#     title_text='Boxplot of Total Time', # title of plot\n",
    "#     xaxis_title_text='Count', # xaxis label,\n",
    "# )\n",
    "# fig.show()"
   ]
  },
  {
   "cell_type": "code",
   "execution_count": 15,
   "metadata": {},
   "outputs": [
    {
     "data": {
      "text/plain": [
       "(696845, 51)"
      ]
     },
     "execution_count": 15,
     "metadata": {},
     "output_type": "execute_result"
    }
   ],
   "source": [
    "df_q = df.iloc[:, :50]\n",
    "df_q['total_time'] = df.iloc[:,50:100].sum(axis=1)\n",
    "df_q.shape\n"
   ]
  },
  {
   "cell_type": "code",
   "execution_count": 16,
   "metadata": {},
   "outputs": [
    {
     "data": {
      "text/plain": [
       "(695704, 51)"
      ]
     },
     "execution_count": 16,
     "metadata": {},
     "output_type": "execute_result"
    }
   ],
   "source": [
    "df_q_clean = df_q.dropna()\n",
    "df_q_clean.shape"
   ]
  },
  {
   "cell_type": "code",
   "execution_count": 17,
   "metadata": {},
   "outputs": [
    {
     "data": {
      "text/plain": [
       "(601863, 51)"
      ]
     },
     "execution_count": 17,
     "metadata": {},
     "output_type": "execute_result"
    }
   ],
   "source": [
    "df_q_clean = df_q_clean.replace(0, np.nan)\n",
    "df_q_clean = df_q_clean.dropna()\n",
    "df_q_clean.shape"
   ]
  },
  {
   "cell_type": "code",
   "execution_count": 18,
   "metadata": {},
   "outputs": [
    {
     "data": {
      "text/plain": [
       "(601712, 51)"
      ]
     },
     "execution_count": 18,
     "metadata": {},
     "output_type": "execute_result"
    }
   ],
   "source": [
    "df_q_clean = df_q_clean[df_q_clean['total_time']>10000]\n",
    "df_q_clean.shape"
   ]
  },
  {
   "cell_type": "code",
   "execution_count": 19,
   "metadata": {},
   "outputs": [
    {
     "data": {
      "text/plain": [
       "(585977, 51)"
      ]
     },
     "execution_count": 19,
     "metadata": {},
     "output_type": "execute_result"
    }
   ],
   "source": [
    "df_q_clean = df_q_clean[df_q_clean['total_time']<1000000]\n",
    "df_q_clean.shape"
   ]
  },
  {
   "cell_type": "code",
   "execution_count": 20,
   "metadata": {},
   "outputs": [],
   "source": [
    "df_q_clean.to_csv(\"time_cleaned.csv\")"
   ]
  },
  {
   "cell_type": "code",
   "execution_count": 12,
   "metadata": {},
   "outputs": [
    {
     "data": {
      "text/html": [
       "<div>\n",
       "<style scoped>\n",
       "    .dataframe tbody tr th:only-of-type {\n",
       "        vertical-align: middle;\n",
       "    }\n",
       "\n",
       "    .dataframe tbody tr th {\n",
       "        vertical-align: top;\n",
       "    }\n",
       "\n",
       "    .dataframe thead th {\n",
       "        text-align: right;\n",
       "    }\n",
       "</style>\n",
       "<table border=\"1\" class=\"dataframe\">\n",
       "  <thead>\n",
       "    <tr style=\"text-align: right;\">\n",
       "      <th></th>\n",
       "      <th>EXT1</th>\n",
       "      <th>EXT2</th>\n",
       "      <th>EXT3</th>\n",
       "      <th>EXT4</th>\n",
       "      <th>EXT5</th>\n",
       "      <th>EXT6</th>\n",
       "      <th>EXT7</th>\n",
       "      <th>EXT8</th>\n",
       "      <th>EXT9</th>\n",
       "      <th>EXT10</th>\n",
       "      <th>...</th>\n",
       "      <th>OPN1</th>\n",
       "      <th>OPN2</th>\n",
       "      <th>OPN3</th>\n",
       "      <th>OPN4</th>\n",
       "      <th>OPN5</th>\n",
       "      <th>OPN6</th>\n",
       "      <th>OPN7</th>\n",
       "      <th>OPN8</th>\n",
       "      <th>OPN9</th>\n",
       "      <th>OPN10</th>\n",
       "    </tr>\n",
       "  </thead>\n",
       "  <tbody>\n",
       "    <tr>\n",
       "      <td>count</td>\n",
       "      <td>603322.000000</td>\n",
       "      <td>603322.000000</td>\n",
       "      <td>603322.000000</td>\n",
       "      <td>603322.000000</td>\n",
       "      <td>603322.000000</td>\n",
       "      <td>603322.000000</td>\n",
       "      <td>603322.000000</td>\n",
       "      <td>603322.000000</td>\n",
       "      <td>603322.000000</td>\n",
       "      <td>603322.000000</td>\n",
       "      <td>...</td>\n",
       "      <td>603322.000000</td>\n",
       "      <td>603322.000000</td>\n",
       "      <td>603322.000000</td>\n",
       "      <td>603322.000000</td>\n",
       "      <td>603322.000000</td>\n",
       "      <td>603322.000000</td>\n",
       "      <td>603322.000000</td>\n",
       "      <td>603322.000000</td>\n",
       "      <td>603322.000000</td>\n",
       "      <td>603322.000000</td>\n",
       "    </tr>\n",
       "    <tr>\n",
       "      <td>mean</td>\n",
       "      <td>2.576876</td>\n",
       "      <td>2.848174</td>\n",
       "      <td>3.230747</td>\n",
       "      <td>3.219274</td>\n",
       "      <td>3.248504</td>\n",
       "      <td>2.424135</td>\n",
       "      <td>2.710867</td>\n",
       "      <td>3.469454</td>\n",
       "      <td>2.954209</td>\n",
       "      <td>3.621943</td>\n",
       "      <td>...</td>\n",
       "      <td>3.776963</td>\n",
       "      <td>2.021337</td>\n",
       "      <td>4.066450</td>\n",
       "      <td>1.951505</td>\n",
       "      <td>3.834374</td>\n",
       "      <td>1.878022</td>\n",
       "      <td>4.059081</td>\n",
       "      <td>3.284182</td>\n",
       "      <td>4.221016</td>\n",
       "      <td>3.997562</td>\n",
       "    </tr>\n",
       "    <tr>\n",
       "      <td>std</td>\n",
       "      <td>1.238025</td>\n",
       "      <td>1.306033</td>\n",
       "      <td>1.191672</td>\n",
       "      <td>1.205191</td>\n",
       "      <td>1.246861</td>\n",
       "      <td>1.214530</td>\n",
       "      <td>1.370031</td>\n",
       "      <td>1.239495</td>\n",
       "      <td>1.324913</td>\n",
       "      <td>1.263841</td>\n",
       "      <td>...</td>\n",
       "      <td>1.074955</td>\n",
       "      <td>1.083808</td>\n",
       "      <td>1.027144</td>\n",
       "      <td>1.058897</td>\n",
       "      <td>0.930270</td>\n",
       "      <td>1.072948</td>\n",
       "      <td>0.919496</td>\n",
       "      <td>1.212711</td>\n",
       "      <td>0.939487</td>\n",
       "      <td>0.982652</td>\n",
       "    </tr>\n",
       "    <tr>\n",
       "      <td>min</td>\n",
       "      <td>1.000000</td>\n",
       "      <td>1.000000</td>\n",
       "      <td>1.000000</td>\n",
       "      <td>1.000000</td>\n",
       "      <td>1.000000</td>\n",
       "      <td>1.000000</td>\n",
       "      <td>1.000000</td>\n",
       "      <td>1.000000</td>\n",
       "      <td>1.000000</td>\n",
       "      <td>1.000000</td>\n",
       "      <td>...</td>\n",
       "      <td>1.000000</td>\n",
       "      <td>1.000000</td>\n",
       "      <td>1.000000</td>\n",
       "      <td>1.000000</td>\n",
       "      <td>1.000000</td>\n",
       "      <td>1.000000</td>\n",
       "      <td>1.000000</td>\n",
       "      <td>1.000000</td>\n",
       "      <td>1.000000</td>\n",
       "      <td>1.000000</td>\n",
       "    </tr>\n",
       "    <tr>\n",
       "      <td>25%</td>\n",
       "      <td>1.000000</td>\n",
       "      <td>2.000000</td>\n",
       "      <td>2.000000</td>\n",
       "      <td>2.000000</td>\n",
       "      <td>2.000000</td>\n",
       "      <td>1.000000</td>\n",
       "      <td>1.000000</td>\n",
       "      <td>3.000000</td>\n",
       "      <td>2.000000</td>\n",
       "      <td>3.000000</td>\n",
       "      <td>...</td>\n",
       "      <td>3.000000</td>\n",
       "      <td>1.000000</td>\n",
       "      <td>3.000000</td>\n",
       "      <td>1.000000</td>\n",
       "      <td>3.000000</td>\n",
       "      <td>1.000000</td>\n",
       "      <td>4.000000</td>\n",
       "      <td>2.000000</td>\n",
       "      <td>4.000000</td>\n",
       "      <td>3.000000</td>\n",
       "    </tr>\n",
       "    <tr>\n",
       "      <td>50%</td>\n",
       "      <td>3.000000</td>\n",
       "      <td>3.000000</td>\n",
       "      <td>3.000000</td>\n",
       "      <td>3.000000</td>\n",
       "      <td>3.000000</td>\n",
       "      <td>2.000000</td>\n",
       "      <td>3.000000</td>\n",
       "      <td>4.000000</td>\n",
       "      <td>3.000000</td>\n",
       "      <td>4.000000</td>\n",
       "      <td>...</td>\n",
       "      <td>4.000000</td>\n",
       "      <td>2.000000</td>\n",
       "      <td>4.000000</td>\n",
       "      <td>2.000000</td>\n",
       "      <td>4.000000</td>\n",
       "      <td>2.000000</td>\n",
       "      <td>4.000000</td>\n",
       "      <td>3.000000</td>\n",
       "      <td>4.000000</td>\n",
       "      <td>4.000000</td>\n",
       "    </tr>\n",
       "    <tr>\n",
       "      <td>75%</td>\n",
       "      <td>3.000000</td>\n",
       "      <td>4.000000</td>\n",
       "      <td>4.000000</td>\n",
       "      <td>4.000000</td>\n",
       "      <td>4.000000</td>\n",
       "      <td>3.000000</td>\n",
       "      <td>4.000000</td>\n",
       "      <td>5.000000</td>\n",
       "      <td>4.000000</td>\n",
       "      <td>5.000000</td>\n",
       "      <td>...</td>\n",
       "      <td>5.000000</td>\n",
       "      <td>3.000000</td>\n",
       "      <td>5.000000</td>\n",
       "      <td>3.000000</td>\n",
       "      <td>5.000000</td>\n",
       "      <td>2.000000</td>\n",
       "      <td>5.000000</td>\n",
       "      <td>4.000000</td>\n",
       "      <td>5.000000</td>\n",
       "      <td>5.000000</td>\n",
       "    </tr>\n",
       "    <tr>\n",
       "      <td>max</td>\n",
       "      <td>5.000000</td>\n",
       "      <td>5.000000</td>\n",
       "      <td>5.000000</td>\n",
       "      <td>5.000000</td>\n",
       "      <td>5.000000</td>\n",
       "      <td>5.000000</td>\n",
       "      <td>5.000000</td>\n",
       "      <td>5.000000</td>\n",
       "      <td>5.000000</td>\n",
       "      <td>5.000000</td>\n",
       "      <td>...</td>\n",
       "      <td>5.000000</td>\n",
       "      <td>5.000000</td>\n",
       "      <td>5.000000</td>\n",
       "      <td>5.000000</td>\n",
       "      <td>5.000000</td>\n",
       "      <td>5.000000</td>\n",
       "      <td>5.000000</td>\n",
       "      <td>5.000000</td>\n",
       "      <td>5.000000</td>\n",
       "      <td>5.000000</td>\n",
       "    </tr>\n",
       "  </tbody>\n",
       "</table>\n",
       "<p>8 rows × 50 columns</p>\n",
       "</div>"
      ],
      "text/plain": [
       "                EXT1           EXT2           EXT3           EXT4  \\\n",
       "count  603322.000000  603322.000000  603322.000000  603322.000000   \n",
       "mean        2.576876       2.848174       3.230747       3.219274   \n",
       "std         1.238025       1.306033       1.191672       1.205191   \n",
       "min         1.000000       1.000000       1.000000       1.000000   \n",
       "25%         1.000000       2.000000       2.000000       2.000000   \n",
       "50%         3.000000       3.000000       3.000000       3.000000   \n",
       "75%         3.000000       4.000000       4.000000       4.000000   \n",
       "max         5.000000       5.000000       5.000000       5.000000   \n",
       "\n",
       "                EXT5           EXT6           EXT7           EXT8  \\\n",
       "count  603322.000000  603322.000000  603322.000000  603322.000000   \n",
       "mean        3.248504       2.424135       2.710867       3.469454   \n",
       "std         1.246861       1.214530       1.370031       1.239495   \n",
       "min         1.000000       1.000000       1.000000       1.000000   \n",
       "25%         2.000000       1.000000       1.000000       3.000000   \n",
       "50%         3.000000       2.000000       3.000000       4.000000   \n",
       "75%         4.000000       3.000000       4.000000       5.000000   \n",
       "max         5.000000       5.000000       5.000000       5.000000   \n",
       "\n",
       "                EXT9          EXT10  ...           OPN1           OPN2  \\\n",
       "count  603322.000000  603322.000000  ...  603322.000000  603322.000000   \n",
       "mean        2.954209       3.621943  ...       3.776963       2.021337   \n",
       "std         1.324913       1.263841  ...       1.074955       1.083808   \n",
       "min         1.000000       1.000000  ...       1.000000       1.000000   \n",
       "25%         2.000000       3.000000  ...       3.000000       1.000000   \n",
       "50%         3.000000       4.000000  ...       4.000000       2.000000   \n",
       "75%         4.000000       5.000000  ...       5.000000       3.000000   \n",
       "max         5.000000       5.000000  ...       5.000000       5.000000   \n",
       "\n",
       "                OPN3           OPN4           OPN5           OPN6  \\\n",
       "count  603322.000000  603322.000000  603322.000000  603322.000000   \n",
       "mean        4.066450       1.951505       3.834374       1.878022   \n",
       "std         1.027144       1.058897       0.930270       1.072948   \n",
       "min         1.000000       1.000000       1.000000       1.000000   \n",
       "25%         3.000000       1.000000       3.000000       1.000000   \n",
       "50%         4.000000       2.000000       4.000000       2.000000   \n",
       "75%         5.000000       3.000000       5.000000       2.000000   \n",
       "max         5.000000       5.000000       5.000000       5.000000   \n",
       "\n",
       "                OPN7           OPN8           OPN9          OPN10  \n",
       "count  603322.000000  603322.000000  603322.000000  603322.000000  \n",
       "mean        4.059081       3.284182       4.221016       3.997562  \n",
       "std         0.919496       1.212711       0.939487       0.982652  \n",
       "min         1.000000       1.000000       1.000000       1.000000  \n",
       "25%         4.000000       2.000000       4.000000       3.000000  \n",
       "50%         4.000000       3.000000       4.000000       4.000000  \n",
       "75%         5.000000       4.000000       5.000000       5.000000  \n",
       "max         5.000000       5.000000       5.000000       5.000000  \n",
       "\n",
       "[8 rows x 50 columns]"
      ]
     },
     "execution_count": 12,
     "metadata": {},
     "output_type": "execute_result"
    }
   ],
   "source": [
    "df_q_clean.describe()"
   ]
  },
  {
   "cell_type": "code",
   "execution_count": null,
   "metadata": {},
   "outputs": [],
   "source": [
    "total_time = df.replace(0, np.nan).dropna().iloc[:,50:100].sum(axis=1)\n",
    "\n",
    "fig = go.Figure(data=[go.Box(x=total_time, name=\"Total Time\")])\n",
    "fig.update_layout(\n",
    "    title_text='Boxplot of Total Time', # title of plot\n",
    "    xaxis_title_text='Count', # xaxis label,\n",
    ")\n",
    "fig.show()"
   ]
  },
  {
   "cell_type": "code",
   "execution_count": null,
   "metadata": {},
   "outputs": [],
   "source": [
    "total_time"
   ]
  },
  {
   "cell_type": "code",
   "execution_count": null,
   "metadata": {},
   "outputs": [],
   "source": [
    "negative_questions = [ \n",
    "    'EXT2','EXT4','EXT6','EXT8','EXT10',\n",
    "    'EST2','EST4',\n",
    "    'AGR1','AGR3','AGR5','AGR7',\n",
    "    'CSN2','CSN4','CSN6','CSN8',\n",
    "    'OPN2','OPN4','OPN6',\n",
    "]\n",
    "\n",
    "df_q_clean[negative_questions] = df_q_clean[negative_questions].replace({1:5, 2:4, 3:3, 4:2, 5:1})\n"
   ]
  },
  {
   "cell_type": "code",
   "execution_count": null,
   "metadata": {},
   "outputs": [],
   "source": [
    "df_q_clean.describe()"
   ]
  },
  {
   "cell_type": "code",
   "execution_count": null,
   "metadata": {},
   "outputs": [],
   "source": [
    "# from plotly.subplots import make_subplots\n",
    "# import plotly.graph_objects as go\n",
    "\n",
    "# fig = make_subplots(rows=2,cols=3,\n",
    "#                     subplot_titles=(\"EXT\", \"EST\"\n",
    "#                                     , \"AGR\", \"CSN\", \"OPN\"))\n",
    "\n",
    "# fig.add_trace(\n",
    "#     go.Histogram(x=mean_df[\"EXT\"]), row=1, col=1\n",
    "# )\n",
    "\n",
    "# fig.add_trace(\n",
    "#     go.Histogram(x=mean_df[\"EST\"]), row=1, col=2\n",
    "# )\n",
    "# fig.add_trace(\n",
    "#     go.Histogram(x=mean_df[\"AGR\"]), row=1, col=3\n",
    "# )\n",
    "# fig.add_trace(\n",
    "#     go.Histogram(x=mean_df[\"CSN\"]), row=2, col=1\n",
    "# )\n",
    "# fig.add_trace(\n",
    "#     go.Histogram(x=mean_df[\"EXT\"]), row=2, col=2\n",
    "# )\n",
    "\n",
    "# fig.show()"
   ]
  },
  {
   "cell_type": "code",
   "execution_count": null,
   "metadata": {},
   "outputs": [],
   "source": [
    "# Extraversion \n",
    "EXT = list(df_q_clean.columns[:10])\n",
    "\n",
    "# Emotional Stability\n",
    "EST = list(df_q_clean.columns[10:20])\n",
    "\n",
    "# Agreeableness\n",
    "AGR = list(df_q_clean.columns[20:30])\n",
    "\n",
    "# Conscientiousness\n",
    "CSN = list(df_q_clean.columns[30:40])\n",
    "\n",
    "# Openness\n",
    "OPN = list(df_q_clean.columns[40:50])\n"
   ]
  },
  {
   "cell_type": "code",
   "execution_count": null,
   "metadata": {},
   "outputs": [],
   "source": [
    "# from plotly.subplots import make_subplots\n",
    "# import plotly.graph_objects as go\n",
    "\n",
    "# fig = make_subplots(rows=5,cols=10,\n",
    "#                     subplot_titles=EXT,\n",
    "#                    shared_yaxes=True)\n",
    "# colors = [\n",
    "#     '#1f77b4',  # muted blue\n",
    "#     '#ff7f0e',  # safety orange\n",
    "#     '#2ca02c',  # cooked asparagus green\n",
    "#     '#d62728',  # brick red\n",
    "#     '#9467bd',  # muted purple\n",
    "#     '#8c564b',  # chestnut brown\n",
    "#     '#e377c2',  # raspberry yogurt pink\n",
    "#     '#7f7f7f',  # middle gray\n",
    "#     '#bcbd22',  # curry yellow-green\n",
    "#     '#17becf'   # blue-teal\n",
    "# ]\n",
    "# for i in range(1,11):\n",
    "#     fig.add_trace(\n",
    "#         go.Histogram(x=df_q_clean[\"EXT{}\".format(i)],\n",
    "#                     marker_color=colors[0]), row=1, col=i\n",
    "#     )\n",
    "# for i in range(1,11):\n",
    "#     fig.add_trace(\n",
    "#         go.Histogram(x=df_q_clean[\"EST{}\".format(i)],\n",
    "#                     marker_color=colors[1]), row=2, col=i\n",
    "#     )\n",
    "    \n",
    "# fig.update_layout(showlegend=False)\n",
    "# fig.show()"
   ]
  },
  {
   "cell_type": "code",
   "execution_count": null,
   "metadata": {},
   "outputs": [],
   "source": [
    "mean_df = pd.DataFrame()"
   ]
  },
  {
   "cell_type": "code",
   "execution_count": null,
   "metadata": {},
   "outputs": [],
   "source": [
    "mean_df['EXT'] = df_q_clean[EXT].sum(axis=1)/10\n",
    "mean_df['EST'] = df_q_clean[EST].sum(axis=1)/10\n",
    "mean_df['AGR'] = df_q_clean[AGR].sum(axis=1)/10\n",
    "mean_df['CSN'] = df_q_clean[CSN].sum(axis=1)/10\n",
    "mean_df['OPN'] = df_q_clean[OPN].sum(axis=1)/10\n",
    "mean_df.head()"
   ]
  },
  {
   "cell_type": "code",
   "execution_count": null,
   "metadata": {},
   "outputs": [],
   "source": [
    "# mean_df.to_csv(\"means.csv\", index=False)"
   ]
  },
  {
   "cell_type": "code",
   "execution_count": null,
   "metadata": {},
   "outputs": [],
   "source": [
    "mean_df.corr()"
   ]
  },
  {
   "cell_type": "code",
   "execution_count": null,
   "metadata": {},
   "outputs": [],
   "source": [
    "np.round_(np.array(mean_df.corr()),2)"
   ]
  },
  {
   "cell_type": "code",
   "execution_count": null,
   "metadata": {},
   "outputs": [],
   "source": [
    "np.flip(np.round_(np.array(mean_df.corr()),2),axis=0)"
   ]
  },
  {
   "cell_type": "code",
   "execution_count": null,
   "metadata": {},
   "outputs": [],
   "source": [
    "import plotly.figure_factory as ff\n",
    "\n",
    "z =np.flip(np.round_(np.array(mean_df.corr()),2),axis=0)\n",
    "\n",
    "x = list(mean_df.columns)\n",
    "y = list(mean_df.columns)[::-1]\n",
    "\n",
    "\n",
    "fig = ff.create_annotated_heatmap(z, x=x, y=y)\n",
    "fig.update_layout(title_text=\"Correlations\")\n",
    "fig.show()"
   ]
  },
  {
   "cell_type": "markdown",
   "metadata": {
    "heading_collapsed": true
   },
   "source": [
    "# figuring out num of clusters"
   ]
  },
  {
   "cell_type": "code",
   "execution_count": null,
   "metadata": {
    "hidden": true
   },
   "outputs": [],
   "source": [
    "scores = [KMeans(n_clusters=i+2).fit(df_q_clean).inertia_ for i in range(10)]\n",
    "sns.lineplot(np.arange(2, 12), scores)\n",
    "plt.xlabel('Number of clusters')\n",
    "plt.ylabel(\"Inertia\")\n",
    "plt.title(\"Inertia of k-Means versus number of clusters\")"
   ]
  },
  {
   "cell_type": "code",
   "execution_count": null,
   "metadata": {
    "hidden": true
   },
   "outputs": [],
   "source": [
    "scores_2 = [KMeans(n_clusters=i+2).fit(df_q_clean).inertia_ for i in range(10,20)]\n",
    "sns.lineplot(np.arange(2, 22), scores + scores_2)\n",
    "plt.xlabel('Number of clusters')\n",
    "plt.ylabel(\"Inertia\")\n",
    "plt.title(\"Inertia of k-Means versus number of clusters\")"
   ]
  },
  {
   "cell_type": "code",
   "execution_count": null,
   "metadata": {
    "hidden": true
   },
   "outputs": [],
   "source": [
    "scores_3 = [KMeans(n_clusters=i+2).fit(df_q_clean).inertia_ for i in range(20,33)]\n",
    "sns.lineplot(np.arange(2, 35), scores + scores_2 + scores_3)\n",
    "plt.xlabel('Number of clusters')\n",
    "plt.ylabel(\"Inertia\")\n",
    "plt.title(\"Inertia of k-Means versus number of clusters\")"
   ]
  },
  {
   "cell_type": "markdown",
   "metadata": {
    "hidden": true
   },
   "source": [
    "## for first 50 columns"
   ]
  },
  {
   "cell_type": "code",
   "execution_count": null,
   "metadata": {
    "hidden": true,
    "scrolled": true
   },
   "outputs": [],
   "source": [
    "scores_q = [KMeans(n_clusters=i+2).fit(df_q_clean).inertia_ for i in range(10)]\n",
    "sns.lineplot(np.arange(2, 12), scores_q)\n",
    "plt.xlabel('Number of clusters')\n",
    "plt.ylabel(\"Inertia\")\n",
    "plt.title(\"Inertia of k-Means versus number of clusters\")"
   ]
  },
  {
   "cell_type": "code",
   "execution_count": null,
   "metadata": {
    "hidden": true
   },
   "outputs": [],
   "source": [
    "scores_q_2 = [KMeans(n_clusters=i+2).fit(df_q_clean).inertia_ for i in range(10,20)]\n",
    "sns.lineplot(np.arange(2, 22), scores + scores_q_2)\n",
    "plt.xlabel('Number of clusters')\n",
    "plt.ylabel(\"Inertia\")\n",
    "plt.title(\"Inertia of k-Means versus number of clusters\")"
   ]
  },
  {
   "cell_type": "code",
   "execution_count": null,
   "metadata": {
    "hidden": true
   },
   "outputs": [],
   "source": [
    "scores_q_3 = [KMeans(n_clusters=i+2).fit(df_q_clean).inertia_ for i in range(20,33)]\n",
    "sns.lineplot(np.arange(2, 35), scores_q + scores_q_2 + scores_q_3)\n",
    "plt.xlabel('Number of clusters')\n",
    "plt.ylabel(\"Inertia\")\n",
    "plt.title(\"Inertia of k-Means versus number of clusters\")"
   ]
  },
  {
   "cell_type": "code",
   "execution_count": null,
   "metadata": {
    "hidden": true
   },
   "outputs": [],
   "source": [
    "scores + scores_2 + scores_3"
   ]
  },
  {
   "cell_type": "markdown",
   "metadata": {
    "hidden": true
   },
   "source": [
    "## cosine k means"
   ]
  },
  {
   "cell_type": "code",
   "execution_count": null,
   "metadata": {
    "hidden": true
   },
   "outputs": [],
   "source": [
    "from sklearn import preprocessing\n",
    "normalized_vectors = preprocessing.normalize(df_q_clean)\n",
    "scores = []\n",
    "for i in range(10):\n",
    "    res = KMeans(n_clusters=i+2).fit(normalized_vectors).inertia_  \n",
    "    scores.append(res)\n",
    "    print(res)\n",
    "sns.lineplot(np.arange(2, 12), scores)\n",
    "plt.xlabel('Number of clusters')\n",
    "plt.ylabel(\"Inertia\")\n",
    "plt.title(\"Inertia of Cosine k-Means versus number of clusters\")\n",
    "# plt.savefig(\"intertia_cosine_kmeans.jpg\", dpi=300)"
   ]
  },
  {
   "cell_type": "code",
   "execution_count": null,
   "metadata": {
    "hidden": true
   },
   "outputs": [],
   "source": [
    "normalized_vectors = preprocessing.normalize(df_q_clean)\n",
    "scores_2 = []\n",
    "for i in range(10,20):\n",
    "    res = KMeans(n_clusters=i+2).fit(normalized_vectors).inertia_  \n",
    "    scores_2.append(res)\n",
    "#     print(res)\n",
    "sns.lineplot(np.arange(2, 22), scores + scores_2)\n",
    "plt.xlabel('Number of clusters')\n",
    "plt.ylabel(\"Inertia\")\n",
    "plt.title(\"Inertia of Cosine k-Means versus number of clusters\")"
   ]
  },
  {
   "cell_type": "code",
   "execution_count": null,
   "metadata": {
    "hidden": true
   },
   "outputs": [],
   "source": [
    "normalized_vectors = preprocessing.normalize(df_q_clean)\n",
    "scores_3 = []\n",
    "for i in range(20,33):\n",
    "    res = KMeans(n_clusters=i+2).fit(normalized_vectors).inertia_  \n",
    "    scores_3.append(res)\n",
    "    print(res)\n",
    "sns.lineplot(np.arange(2, 35), scores + scores_2 + scores_3)\n",
    "plt.xlabel('Number of clusters')\n",
    "plt.ylabel(\"Inertia\")\n",
    "plt.title(\"Inertia of Cosine k-Means versus number of clusters\")"
   ]
  },
  {
   "cell_type": "code",
   "execution_count": null,
   "metadata": {
    "hidden": true
   },
   "outputs": [],
   "source": [
    "scores + scores_2 + scores_3"
   ]
  },
  {
   "cell_type": "code",
   "execution_count": null,
   "metadata": {
    "hidden": true
   },
   "outputs": [],
   "source": []
  },
  {
   "cell_type": "markdown",
   "metadata": {
    "heading_collapsed": true
   },
   "source": [
    "# prediction"
   ]
  },
  {
   "cell_type": "markdown",
   "metadata": {
    "hidden": true
   },
   "source": [
    "https://scikit-learn.org/stable/modules/generated/sklearn.mixture.BayesianGaussianMixture.html#sklearn.mixture.BayesianGaussianMixture"
   ]
  },
  {
   "cell_type": "code",
   "execution_count": null,
   "metadata": {
    "hidden": true
   },
   "outputs": [],
   "source": []
  },
  {
   "cell_type": "code",
   "execution_count": null,
   "metadata": {
    "hidden": true,
    "scrolled": true
   },
   "outputs": [],
   "source": [
    "X = np.array(df_q_clean.sample(frac=.001, random_state = 1))\n",
    "X.shape"
   ]
  },
  {
   "cell_type": "code",
   "execution_count": null,
   "metadata": {
    "hidden": true
   },
   "outputs": [],
   "source": [
    "n_components = 5\n",
    "dpgmm = mixture.BayesianGaussianMixture(n_components,\n",
    "                                        covariance_type='full',\n",
    "                                        max_iter=1000,).fit(X)"
   ]
  },
  {
   "cell_type": "code",
   "execution_count": null,
   "metadata": {
    "hidden": true,
    "scrolled": true
   },
   "outputs": [],
   "source": [
    "preds = dpgmm.predict(X)\n"
   ]
  },
  {
   "cell_type": "markdown",
   "metadata": {
    "heading_collapsed": true,
    "hidden": true
   },
   "source": [
    "## 2d PCA"
   ]
  },
  {
   "cell_type": "code",
   "execution_count": null,
   "metadata": {
    "hidden": true
   },
   "outputs": [],
   "source": [
    "pca = PCA(n_components=2)\n",
    "pca_results = pca.fit(X).transform(X)\n",
    "pca_df = pd.DataFrame(data = pca_results,\n",
    "                           columns = ['principal component 1', 'principal component 2'])\n",
    "pca_df['cluster'] = preds\n",
    "final_df = pca_df\n",
    "final_df.head()"
   ]
  },
  {
   "cell_type": "code",
   "execution_count": null,
   "metadata": {
    "hidden": true
   },
   "outputs": [],
   "source": [
    "fig = plt.figure(figsize = (8,8))\n",
    "ax = fig.add_subplot(1,1,1) \n",
    "ax.set_xlabel('Principal Component 1', fontsize = 15)\n",
    "ax.set_ylabel('Principal Component 2', fontsize = 15)\n",
    "ax.set_title('2 component PCA', fontsize = 20)\n",
    "targets = [(i) for i in range(n_components)]\n",
    "colors = ['r', 'g', 'b', 'm', 'c'][:n_components]\n",
    "for target, color in zip(targets,colors):\n",
    "    cluster_df = final_df[final_df['cluster'] == target]\n",
    "    ax.scatter(cluster_df['principal component 1']\n",
    "               , cluster_df['principal component 2']\n",
    "               , c = color\n",
    "               , s = 10)\n",
    "ax.legend(targets)\n",
    "ax.grid()"
   ]
  },
  {
   "cell_type": "code",
   "execution_count": null,
   "metadata": {
    "hidden": true
   },
   "outputs": [],
   "source": [
    "fig = go.Figure()\n",
    "targets = [(i) for i in range(n_components)]\n",
    "for target in targets:\n",
    "    cluster_df = final_df[final_df['cluster'] == target]\n",
    "    fig.add_trace(go.Scatter(x=cluster_df['principal component 1'],\n",
    "                             y=cluster_df['principal component 2'],\n",
    "                            mode='markers',\n",
    "                            marker= dict(\n",
    "                                size=3,\n",
    "                            ),\n",
    "                            name=target))\n",
    "\n",
    "fig.update_layout({'title': '{} clusters'.format(n_components),\n",
    "                  'xaxis': {\n",
    "                      'title': 'Principal Component 1'\n",
    "                  },\n",
    "                  'yaxis': {\n",
    "                      'title': 'Principal Component 2'\n",
    "                  }})\n",
    "fig.show()\n"
   ]
  },
  {
   "cell_type": "markdown",
   "metadata": {
    "heading_collapsed": true,
    "hidden": true
   },
   "source": [
    "## 3d PCA"
   ]
  },
  {
   "cell_type": "code",
   "execution_count": null,
   "metadata": {
    "hidden": true
   },
   "outputs": [],
   "source": [
    "pca = PCA(n_components=3)\n",
    "pca_results = pca.fit(X).transform(X)\n",
    "pca_df = pd.DataFrame(data = pca_results,\n",
    "                           columns = ['principal component 1', 'principal component 2', 'principal component 3'])\n",
    "pca_df['cluster'] = preds\n",
    "final_df = pca_df\n",
    "final_df.head()"
   ]
  },
  {
   "cell_type": "code",
   "execution_count": null,
   "metadata": {
    "hidden": true
   },
   "outputs": [],
   "source": [
    "fig = plt.figure(figsize = (8,8))\n",
    "ax = fig.add_subplot(111, projection='3d') \n",
    "ax.set_xlabel('Principal Component 1', fontsize = 15)\n",
    "ax.set_ylabel('Principal Component 2', fontsize = 15)\n",
    "ax.set_zlabel('Principal Component 3', fontsize = 15)\n",
    "ax.set_title('3 component PCA', fontsize = 20)\n",
    "targets = [(i) for i in range(n_components)]\n",
    "colors = ['r', 'g', 'b', 'm', 'c'][:n_components]\n",
    "for target, color in zip(targets,colors):\n",
    "    cluster_df = final_df[final_df['cluster'] == target]\n",
    "    ax.scatter(cluster_df['principal component 1']\n",
    "               , cluster_df['principal component 2']\n",
    "               , cluster_df['principal component 3']\n",
    "               , c = color\n",
    "               , s = 10)\n",
    "ax.legend(targets)\n",
    "ax.grid()"
   ]
  },
  {
   "cell_type": "code",
   "execution_count": null,
   "metadata": {
    "hidden": true
   },
   "outputs": [],
   "source": [
    "fig = go.Figure()\n",
    "targets = [(i) for i in range(n_components)]\n",
    "for target in targets:\n",
    "    cluster_df = final_df[final_df['cluster'] == target]\n",
    "    fig.add_trace(go.Scatter3d(x=cluster_df['principal component 1'],\n",
    "                             y=cluster_df['principal component 2'],\n",
    "                             z=cluster_df['principal component 3'],\n",
    "                            mode='markers',\n",
    "                            marker= dict(\n",
    "                                size=3,\n",
    "                            ),\n",
    "                            name=target))\n",
    "fig.show()\n"
   ]
  },
  {
   "cell_type": "code",
   "execution_count": null,
   "metadata": {
    "hidden": true
   },
   "outputs": [],
   "source": [
    "fig = go.Figure(data=[go.Histogram(x=preds)])\n",
    "fig.show()"
   ]
  },
  {
   "cell_type": "markdown",
   "metadata": {
    "heading_collapsed": true
   },
   "source": [
    "# 100 columns (discrete and continuous)"
   ]
  },
  {
   "cell_type": "code",
   "execution_count": null,
   "metadata": {
    "hidden": true
   },
   "outputs": [],
   "source": [
    "df_q = df.iloc[:, :100]\n",
    "df_q_clean = df_q.dropna()\n",
    "df_q_clean.head()"
   ]
  },
  {
   "cell_type": "code",
   "execution_count": null,
   "metadata": {
    "hidden": true
   },
   "outputs": [],
   "source": [
    "normalized_vectors = preprocessing.normalize(df_q_clean)"
   ]
  },
  {
   "cell_type": "code",
   "execution_count": null,
   "metadata": {
    "hidden": true
   },
   "outputs": [],
   "source": [
    "df_normalized = pd.DataFrame(normalized_vectors,columns=df_q_clean.columns)\n",
    "df_normalized.head()"
   ]
  },
  {
   "cell_type": "code",
   "execution_count": null,
   "metadata": {
    "hidden": true
   },
   "outputs": [],
   "source": [
    "print(df_normalized.mean(axis=0))"
   ]
  },
  {
   "cell_type": "markdown",
   "metadata": {
    "hidden": true
   },
   "source": [
    "## selecting cluster num"
   ]
  },
  {
   "cell_type": "code",
   "execution_count": null,
   "metadata": {
    "hidden": true
   },
   "outputs": [],
   "source": [
    "scores_k_means = [8.767975620642456e+19,\n",
    " 7.825069704686853e+19,\n",
    " 7.183911491842628e+19,\n",
    " 6.922759430613714e+19,\n",
    " 6.261210414145565e+19,\n",
    " 5.800045813008041e+19,\n",
    " 5.338880344802574e+19,\n",
    " 4.877714293764805e+19,\n",
    " 4.416552083506545e+19,\n",
    " 3.955387343263997e+19,\n",
    " 3.4942214703228273e+19,\n",
    " 3.0330574130183025e+19,\n",
    " 2.816580248817491e+19,\n",
    " 2.6295770300398756e+19,\n",
    " 2.494256613927725e+19,\n",
    " 2.361025418523215e+19,\n",
    " 2.180701321705099e+19,\n",
    " 2.077457026632309e+19,\n",
    " 1.9695557385714962e+19,\n",
    " 1.845686524242552e+19,\n",
    " 1.724399434796064e+19,\n",
    " 1.6854644997394072e+19,\n",
    " 1.5863294323545614e+19,\n",
    " 1.518100893012325e+19,\n",
    " 1.4347023208984635e+19,\n",
    " 1.4129831721141086e+19,\n",
    " 1.3291282299021515e+19,\n",
    " 1.2907356465744026e+19,\n",
    " 1.2575713154155952e+19,\n",
    " 1.2163138938203034e+19,\n",
    " 1.187590741095033e+19,\n",
    " 1.1749391212295293e+19,\n",
    " 1.1151383993056731e+19]"
   ]
  },
  {
   "cell_type": "code",
   "execution_count": null,
   "metadata": {
    "hidden": true
   },
   "outputs": [],
   "source": [
    "sns.lineplot(np.arange(2, 35), scores_k_means)\n",
    "plt.xlabel('Number of clusters')\n",
    "plt.ylabel(\"Inertia\")\n",
    "plt.title(\"Inertia of k-Means versus number of clusters\")"
   ]
  },
  {
   "cell_type": "code",
   "execution_count": null,
   "metadata": {
    "hidden": true
   },
   "outputs": [],
   "source": [
    "scores_cosine_means = [389727.99974420003,\n",
    " 365203.50690628693,\n",
    " 351080.3878482404,\n",
    " 343842.0464398158,\n",
    " 337621.6281215583,\n",
    " 333099.26366572117,\n",
    " 326199.1036186565,\n",
    " 320031.27322683623,\n",
    " 316564.4775094501,\n",
    " 313715.15231793205,\n",
    " 309463.3811214922,\n",
    " 305735.6642873377,\n",
    " 303607.8437839749,\n",
    " 300634.7370109853,\n",
    " 297542.8324055051,\n",
    " 295206.1498766642,\n",
    " 291620.6871182187,\n",
    " 289190.5074452084,\n",
    " 286329.7730713367,\n",
    " 284118.74552086915,\n",
    " 279963.4092019849,\n",
    " 278896.5664801139,\n",
    " 276641.8471794246,\n",
    " 272812.20796448726,\n",
    " 271472.0012652921,\n",
    " 269389.26384386065,\n",
    " 265851.11146884674,\n",
    " 264277.6865159828,\n",
    " 261412.70041942957,\n",
    " 258657.2711889111,\n",
    " 255990.40714312665,\n",
    " 254161.21949834444,\n",
    " 250635.1884468744]"
   ]
  },
  {
   "cell_type": "code",
   "execution_count": null,
   "metadata": {
    "hidden": true
   },
   "outputs": [],
   "source": [
    "sns.lineplot(np.arange(2, 35), scores_cosine_means)\n",
    "plt.xlabel('Number of clusters')\n",
    "plt.ylabel(\"Inertia\")\n",
    "plt.title(\"Inertia of Cosine k-Means versus number of clusters\")"
   ]
  },
  {
   "cell_type": "markdown",
   "metadata": {
    "hidden": true
   },
   "source": [
    "## clustering"
   ]
  },
  {
   "cell_type": "code",
   "execution_count": null,
   "metadata": {
    "hidden": true
   },
   "outputs": [],
   "source": [
    "# X = np.array(df_q_clean.sample(frac=.001, random_state = 1))\n",
    "X = np.array(df_normalized.sample(frac=.001, random_state = 1))\n",
    "X.shape"
   ]
  },
  {
   "cell_type": "code",
   "execution_count": null,
   "metadata": {
    "hidden": true
   },
   "outputs": [],
   "source": [
    "n_components = 5\n",
    "dpgmm = mixture.BayesianGaussianMixture(n_components,\n",
    "                                        covariance_type='full',\n",
    "                                        max_iter=1000,).fit(X)\n",
    "preds = dpgmm.predict(X)\n"
   ]
  },
  {
   "cell_type": "code",
   "execution_count": null,
   "metadata": {
    "hidden": true
   },
   "outputs": [],
   "source": [
    "preds"
   ]
  },
  {
   "cell_type": "markdown",
   "metadata": {
    "hidden": true
   },
   "source": [
    "### 2d PCA"
   ]
  },
  {
   "cell_type": "code",
   "execution_count": null,
   "metadata": {
    "hidden": true
   },
   "outputs": [],
   "source": [
    "pca = PCA(n_components=2)\n",
    "pca_results = pca.fit(X).transform(X)\n",
    "pca_df = pd.DataFrame(data = pca_results,\n",
    "                           columns = ['principal component 1', 'principal component 2'])\n",
    "pca_df['cluster'] = preds\n",
    "final_df = pca_df\n",
    "final_df.head()"
   ]
  },
  {
   "cell_type": "code",
   "execution_count": null,
   "metadata": {
    "hidden": true
   },
   "outputs": [],
   "source": [
    "fig = go.Figure()\n",
    "targets = [(i) for i in range(n_components)]\n",
    "for target in targets:\n",
    "    cluster_df = final_df[final_df['cluster'] == target]\n",
    "    fig.add_trace(go.Scatter(x=cluster_df['principal component 1'],\n",
    "                             y=cluster_df['principal component 2'],\n",
    "                            mode='markers',\n",
    "                            marker= dict(\n",
    "                                size=3,\n",
    "                            ),\n",
    "                            name=target))\n",
    "\n",
    "fig.update_layout({'title': '{} clusters'.format(n_components),\n",
    "                  'xaxis': {\n",
    "                      'title': 'Principal Component 1'\n",
    "                  },\n",
    "                  'yaxis': {\n",
    "                      'title': 'Principal Component 2'\n",
    "                  }})\n",
    "fig.show()\n"
   ]
  },
  {
   "cell_type": "markdown",
   "metadata": {
    "hidden": true
   },
   "source": [
    "### 3d PCA"
   ]
  },
  {
   "cell_type": "code",
   "execution_count": null,
   "metadata": {
    "hidden": true
   },
   "outputs": [],
   "source": [
    "pca = PCA(n_components=3)\n",
    "pca_results = pca.fit(X).transform(X)\n",
    "pca_df = pd.DataFrame(data = pca_results,\n",
    "                           columns = ['principal component 1', 'principal component 2', 'principal component 3'])\n",
    "pca_df['cluster'] = preds\n",
    "final_df = pca_df\n",
    "final_df.head()"
   ]
  },
  {
   "cell_type": "code",
   "execution_count": null,
   "metadata": {
    "hidden": true
   },
   "outputs": [],
   "source": [
    "fig = go.Figure()\n",
    "targets = [(i) for i in range(n_components)]\n",
    "for target in targets:\n",
    "    cluster_df = final_df[final_df['cluster'] == target]\n",
    "    fig.add_trace(go.Scatter3d(x=cluster_df['principal component 1'],\n",
    "                             y=cluster_df['principal component 2'],\n",
    "                             z=cluster_df['principal component 3'],\n",
    "                            mode='markers',\n",
    "                            marker= dict(\n",
    "                                size=3,\n",
    "                            ),\n",
    "                            name=target))\n",
    "fig.show()\n"
   ]
  },
  {
   "cell_type": "code",
   "execution_count": null,
   "metadata": {
    "hidden": true
   },
   "outputs": [],
   "source": [
    "fig = go.Figure(data=[go.Histogram(x=preds)])\n",
    "fig.show()"
   ]
  },
  {
   "cell_type": "code",
   "execution_count": null,
   "metadata": {
    "hidden": true
   },
   "outputs": [],
   "source": []
  }
 ],
 "metadata": {
  "kernelspec": {
   "display_name": "Python 3",
   "language": "python",
   "name": "python3"
  },
  "language_info": {
   "codemirror_mode": {
    "name": "ipython",
    "version": 3
   },
   "file_extension": ".py",
   "mimetype": "text/x-python",
   "name": "python",
   "nbconvert_exporter": "python",
   "pygments_lexer": "ipython3",
   "version": "3.7.4"
  },
  "varInspector": {
   "cols": {
    "lenName": 16,
    "lenType": 16,
    "lenVar": 40
   },
   "kernels_config": {
    "python": {
     "delete_cmd_postfix": "",
     "delete_cmd_prefix": "del ",
     "library": "var_list.py",
     "varRefreshCmd": "print(var_dic_list())"
    },
    "r": {
     "delete_cmd_postfix": ") ",
     "delete_cmd_prefix": "rm(",
     "library": "var_list.r",
     "varRefreshCmd": "cat(var_dic_list()) "
    }
   },
   "types_to_exclude": [
    "module",
    "function",
    "builtin_function_or_method",
    "instance",
    "_Feature"
   ],
   "window_display": false
  }
 },
 "nbformat": 4,
 "nbformat_minor": 2
}
